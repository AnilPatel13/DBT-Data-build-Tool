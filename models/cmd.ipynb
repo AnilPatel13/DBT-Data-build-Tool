{
 "cells": [
  {
   "cell_type": "code",
   "execution_count": 9,
   "id": "ff8689e6",
   "metadata": {},
   "outputs": [
    {
     "name": "stdout",
     "output_type": "stream",
     "text": [
      "c:\\Users\\celia\\OneDrive\\Desktop\\Anil\\DBT-Data-build-Tool\\dbtsnowflake\n"
     ]
    }
   ],
   "source": [
    "%cd ../dbtsnowflake"
   ]
  },
  {
   "cell_type": "code",
   "execution_count": 13,
   "id": "95acd4ee",
   "metadata": {},
   "outputs": [
    {
     "name": "stdout",
     "output_type": "stream",
     "text": [
      "\u001b[0m00:33:45  Running with dbt=1.9.0\n",
      "\u001b[0m00:33:45  dbt version: 1.9.0\n",
      "\u001b[0m00:33:45  python version: 3.13.5\n",
      "\u001b[0m00:33:45  python path: C:\\Users\\celia\\OneDrive\\Desktop\\Anil\\DBT-Data-build-Tool\\venv\\Scripts\\python.exe\n",
      "\u001b[0m00:33:45  os info: Windows-11-10.0.26100-SP0\n",
      "\u001b[0m00:33:45  Using profiles dir at C:\\Users\\celia\\.dbt\n",
      "\u001b[0m00:33:45  Using profiles.yml file at C:\\Users\\celia\\.dbt\\profiles.yml\n",
      "\u001b[0m00:33:45  Using dbt_project.yml file at c:\\Users\\celia\\OneDrive\\Desktop\\Anil\\DBT-Data-build-Tool\\dbtsnowflake\\dbt_project.yml\n",
      "\u001b[0m00:33:45  adapter type: snowflake\n",
      "\u001b[0m00:33:45  adapter version: 1.9.4\n",
      "\u001b[0m00:33:46  Configuration:\n",
      "\u001b[0m00:33:46    profiles.yml file [\u001b[32mOK found and valid\u001b[0m]\n",
      "\u001b[0m00:33:46    dbt_project.yml file [\u001b[32mOK found and valid\u001b[0m]\n",
      "\u001b[0m00:33:46  Required dependencies:\n",
      "\u001b[0m00:33:46   - git [\u001b[32mOK found\u001b[0m]\n",
      "\n",
      "\u001b[0m00:33:46  Connection:\n",
      "\u001b[0m00:33:46    account: xcvqojm-myb04708\n",
      "\u001b[0m00:33:46    user: dbt\n",
      "\u001b[0m00:33:46    database: AIRBNB\n",
      "\u001b[0m00:33:46    warehouse: COMPUTE_WH\n",
      "\u001b[0m00:33:46    role: transform\n",
      "\u001b[0m00:33:46    schema: DEV\n",
      "\u001b[0m00:33:46    authenticator: None\n",
      "\u001b[0m00:33:46    oauth_client_id: None\n",
      "\u001b[0m00:33:46    query_tag: None\n",
      "\u001b[0m00:33:46    client_session_keep_alive: False\n",
      "\u001b[0m00:33:46    host: None\n",
      "\u001b[0m00:33:46    port: None\n",
      "\u001b[0m00:33:46    proxy_host: None\n",
      "\u001b[0m00:33:46    proxy_port: None\n",
      "\u001b[0m00:33:46    protocol: None\n",
      "\u001b[0m00:33:46    connect_retries: 1\n",
      "\u001b[0m00:33:46    connect_timeout: None\n",
      "\u001b[0m00:33:46    retry_on_database_errors: False\n",
      "\u001b[0m00:33:46    retry_all: False\n",
      "\u001b[0m00:33:46    insecure_mode: False\n",
      "\u001b[0m00:33:46    reuse_connections: True\n",
      "\u001b[0m00:33:46  Registered adapter: snowflake=1.9.4\n",
      "\u001b[0m00:33:47    Connection test: [\u001b[32mOK connection ok\u001b[0m]\n",
      "\n",
      "\u001b[0m00:33:47  \u001b[32mAll checks passed!\u001b[0m\n"
     ]
    }
   ],
   "source": [
    "!dbt debug"
   ]
  },
  {
   "cell_type": "code",
   "execution_count": 14,
   "id": "a9059576",
   "metadata": {},
   "outputs": [
    {
     "name": "stdout",
     "output_type": "stream",
     "text": [
      "\u001b[0m01:00:09  Running with dbt=1.9.0\n",
      "\u001b[0m01:00:10  Registered adapter: snowflake=1.9.4\n",
      "\u001b[0m01:00:10  Unable to do partial parsing because of a version mismatch\n",
      "\u001b[0m01:00:10  Found 1 model, 477 macros\n",
      "\u001b[0m01:00:10  \n",
      "\u001b[0m01:00:10  Concurrency: 1 threads (target='dev')\n",
      "\u001b[0m01:00:10  \n",
      "\u001b[0m01:00:13  1 of 1 START sql view model DEV.src_listings ................................... [RUN]\n",
      "\u001b[0m01:00:14  1 of 1 OK created sql view model DEV.src_listings .............................. [\u001b[32mSUCCESS 1\u001b[0m in 1.26s]\n",
      "\u001b[0m01:00:15  \n",
      "\u001b[0m01:00:15  Finished running 1 view model in 0 hours 0 minutes and 4.39 seconds (4.39s).\n",
      "\u001b[0m01:00:15  \n",
      "\u001b[0m01:00:15  \u001b[32mCompleted successfully\u001b[0m\n",
      "\u001b[0m01:00:15  \n",
      "\u001b[0m01:00:15  Done. PASS=1 WARN=0 ERROR=0 SKIP=0 TOTAL=1\n"
     ]
    }
   ],
   "source": [
    "! dbt run"
   ]
  },
  {
   "cell_type": "code",
   "execution_count": 15,
   "id": "b59e01ac",
   "metadata": {},
   "outputs": [
    {
     "name": "stdout",
     "output_type": "stream",
     "text": [
      "\u001b[0m01:08:50  Running with dbt=1.9.0\n",
      "\u001b[0m01:08:50  Registered adapter: snowflake=1.9.4\n",
      "\u001b[0m01:08:51  Unable to do partial parsing because of a version mismatch\n",
      "\u001b[0m01:08:51  Found 2 models, 477 macros\n",
      "\u001b[0m01:08:51  \n",
      "\u001b[0m01:08:51  Concurrency: 1 threads (target='dev')\n",
      "\u001b[0m01:08:51  \n",
      "\u001b[0m01:08:53  1 of 2 START sql view model DEV.src_listings ................................... [RUN]\n",
      "\u001b[0m01:08:54  1 of 2 OK created sql view model DEV.src_listings .............................. [\u001b[32mSUCCESS 1\u001b[0m in 0.82s]\n",
      "\u001b[0m01:08:54  2 of 2 START sql view model DEV.src_reviews .................................... [RUN]\n",
      "\u001b[0m01:08:54  2 of 2 OK created sql view model DEV.src_reviews ............................... [\u001b[32mSUCCESS 1\u001b[0m in 0.50s]\n",
      "\u001b[0m01:08:54  \n",
      "\u001b[0m01:08:55  Finished running 2 view models in 0 hours 0 minutes and 3.40 seconds (3.40s).\n",
      "\u001b[0m01:08:55  \n",
      "\u001b[0m01:08:55  \u001b[32mCompleted successfully\u001b[0m\n",
      "\u001b[0m01:08:55  \n",
      "\u001b[0m01:08:55  Done. PASS=2 WARN=0 ERROR=0 SKIP=0 TOTAL=2\n"
     ]
    }
   ],
   "source": [
    "! dbt run"
   ]
  },
  {
   "cell_type": "code",
   "execution_count": 16,
   "id": "852c3001",
   "metadata": {},
   "outputs": [
    {
     "name": "stdout",
     "output_type": "stream",
     "text": [
      "\u001b[0m01:24:35  Running with dbt=1.9.0\n",
      "\u001b[0m01:24:36  Registered adapter: snowflake=1.9.4\n",
      "\u001b[0m01:24:36  Unable to do partial parsing because of a version mismatch\n",
      "\u001b[0m01:24:36  Found 4 models, 477 macros\n",
      "\u001b[0m01:24:36  \n",
      "\u001b[0m01:24:36  Concurrency: 1 threads (target='dev')\n",
      "\u001b[0m01:24:36  \n",
      "\u001b[0m01:24:38  1 of 3 START sql view model DEV.src_hosts ...................................... [RUN]\n",
      "\u001b[0m01:24:39  1 of 3 OK created sql view model DEV.src_hosts ................................. [\u001b[32mSUCCESS 1\u001b[0m in 0.84s]\n",
      "\u001b[0m01:24:39  2 of 3 START sql view model DEV.src_listings ................................... [RUN]\n",
      "\u001b[0m01:24:39  2 of 3 OK created sql view model DEV.src_listings .............................. [\u001b[32mSUCCESS 1\u001b[0m in 0.40s]\n",
      "\u001b[0m01:24:39  3 of 3 START sql view model DEV.src_reviews .................................... [RUN]\n",
      "\u001b[0m01:24:39  3 of 3 OK created sql view model DEV.src_reviews ............................... [\u001b[32mSUCCESS 1\u001b[0m in 0.39s]\n",
      "\u001b[0m01:24:40  \n",
      "\u001b[0m01:24:40  Finished running 3 view models in 0 hours 0 minutes and 3.36 seconds (3.36s).\n",
      "\u001b[0m01:24:40  \n",
      "\u001b[0m01:24:40  \u001b[32mCompleted successfully\u001b[0m\n",
      "\u001b[0m01:24:40  \n",
      "\u001b[0m01:24:40  Done. PASS=3 WARN=0 ERROR=0 SKIP=0 TOTAL=3\n"
     ]
    }
   ],
   "source": [
    "! dbt run"
   ]
  },
  {
   "cell_type": "code",
   "execution_count": null,
   "id": "3ce5ad57",
   "metadata": {},
   "outputs": [],
   "source": []
  }
 ],
 "metadata": {
  "kernelspec": {
   "display_name": "venv",
   "language": "python",
   "name": "python3"
  },
  "language_info": {
   "codemirror_mode": {
    "name": "ipython",
    "version": 3
   },
   "file_extension": ".py",
   "mimetype": "text/x-python",
   "name": "python",
   "nbconvert_exporter": "python",
   "pygments_lexer": "ipython3",
   "version": "3.13.5"
  }
 },
 "nbformat": 4,
 "nbformat_minor": 5
}

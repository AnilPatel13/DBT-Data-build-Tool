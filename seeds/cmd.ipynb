{
 "cells": [
  {
   "cell_type": "code",
   "execution_count": null,
   "id": "bf7eb972",
   "metadata": {},
   "outputs": [
    {
     "name": "stdout",
     "output_type": "stream",
     "text": [
      "Usage: curl [options...] <url>\n",
      " -d, --data <data>           HTTP POST data\n",
      " -f, --fail                  Fail fast with no output on HTTP errors\n",
      " -h, --help <subject>        Get help for commands\n",
      " -o, --output <file>         Write to file instead of stdout\n",
      " -O, --remote-name           Write output to file named as remote file\n",
      " -i, --show-headers          Show response headers in output\n",
      " -s, --silent                Silent mode\n",
      " -T, --upload-file <file>    Transfer local FILE to destination\n",
      " -u, --user <user:password>  Server user and password\n",
      " -A, --user-agent <name>     Send User-Agent <name> to server\n",
      " -v, --verbose               Make the operation more talkative\n",
      " -V, --version               Show version number and quit\n",
      "\n",
      "This is not the full help; this menu is split into categories.\n",
      "Use \"--help category\" to get an overview of all categories, which are:\n",
      "auth, connection, curl, deprecated, dns, file, ftp, global, http, imap, ldap, \n",
      "output, pop3, post, proxy, scp, sftp, smtp, ssh, telnet, tftp, timeout, tls, \n",
      "upload, verbose.\n",
      "Use \"--help all\" to list all options\n"
     ]
    }
   ],
   "source": [
    "!curl https://dbtlearn.s3.us-east-2.amazonaws.com/seed_full_moon_dataes.csv --output seeds/seed_full_moon_dataes.csv"
   ]
  },
  {
   "cell_type": "code",
   "execution_count": 8,
   "id": "ee5d3cd1",
   "metadata": {},
   "outputs": [
    {
     "name": "stderr",
     "output_type": "stream",
     "text": [
      "  % Total    % Received % Xferd  Average Speed   Time    Time     Time  Current\n",
      "                                 Dload  Upload   Total   Spent    Left  Speed\n",
      "\n",
      "  0     0    0     0    0     0      0      0 --:--:-- --:--:-- --:--:--     0\n",
      "100  3007  100  3007    0     0  18452      0 --:--:-- --:--:-- --:--:-- 18677\n"
     ]
    }
   ],
   "source": [
    "!curl https://dbtlearn.s3.us-east-2.amazonaws.com/seed_full_moon_dates.csv -o ../dbtsnowflake/seeds/seed_full_moon_dates.csv"
   ]
  },
  {
   "cell_type": "code",
   "execution_count": 9,
   "id": "14dae7a0",
   "metadata": {},
   "outputs": [
    {
     "name": "stdout",
     "output_type": "stream",
     "text": [
      "c:\\Users\\celia\\OneDrive\\Desktop\\Anil\\DBT-Data-build-Tool\\dbtsnowflake\n"
     ]
    }
   ],
   "source": [
    "%cd ../dbtsnowflake"
   ]
  },
  {
   "cell_type": "code",
   "execution_count": 10,
   "id": "0cb191d7",
   "metadata": {},
   "outputs": [
    {
     "name": "stdout",
     "output_type": "stream",
     "text": [
      "\u001b[0m00:53:21  Running with dbt=1.9.0\n",
      "\u001b[0m00:53:21  Registered adapter: snowflake=1.9.4\n",
      "\u001b[0m00:53:22  Found 7 models, 1 seed, 477 macros\n",
      "\u001b[0m00:53:22  \n",
      "\u001b[0m00:53:22  Concurrency: 1 threads (target='dev')\n",
      "\u001b[0m00:53:22  \n",
      "\u001b[0m00:53:26  1 of 1 START seed file DEV.seed_full_moon_dates ................................ [RUN]\n",
      "\u001b[0m00:53:29  1 of 1 OK loaded seed file DEV.seed_full_moon_dates ............................ [\u001b[32mINSERT 272\u001b[0m in 2.82s]\n",
      "\u001b[0m00:53:30  \n",
      "\u001b[0m00:53:30  Finished running 1 seed in 0 hours 0 minutes and 7.99 seconds (7.99s).\n",
      "\u001b[0m00:53:30  \n",
      "\u001b[0m00:53:30  \u001b[32mCompleted successfully\u001b[0m\n",
      "\u001b[0m00:53:30  \n",
      "\u001b[0m00:53:30  Done. PASS=1 WARN=0 ERROR=0 SKIP=0 TOTAL=1\n"
     ]
    }
   ],
   "source": [
    "!dbt seed"
   ]
  },
  {
   "cell_type": "code",
   "execution_count": 13,
   "id": "b1d4dae7",
   "metadata": {},
   "outputs": [
    {
     "name": "stdout",
     "output_type": "stream",
     "text": [
      "\u001b[0m01:03:22  Running with dbt=1.9.0\n",
      "\u001b[0m01:03:22  Registered adapter: snowflake=1.9.4\n",
      "\u001b[0m01:03:22  Found 8 models, 1 seed, 477 macros\n",
      "\u001b[0m01:03:22  \n",
      "\u001b[0m01:03:22  Concurrency: 1 threads (target='dev')\n",
      "\u001b[0m01:03:22  \n",
      "\u001b[0m01:03:25  1 of 5 START sql view model DEV.dim_hosts_cleansed ............................. [RUN]\n",
      "\u001b[0m01:03:26  1 of 5 OK created sql view model DEV.dim_hosts_cleansed ........................ [\u001b[32mSUCCESS 1\u001b[0m in 0.76s]\n",
      "\u001b[0m01:03:26  2 of 5 START sql view model DEV.dim_listings_cleansed .......................... [RUN]\n",
      "\u001b[0m01:03:26  2 of 5 OK created sql view model DEV.dim_listings_cleansed ..................... [\u001b[32mSUCCESS 1\u001b[0m in 0.31s]\n",
      "\u001b[0m01:03:26  3 of 5 START sql incremental model DEV.fact_reviews ............................ [RUN]\n",
      "\u001b[0m01:03:28  3 of 5 OK created sql incremental model DEV.fact_reviews ....................... [\u001b[32mSUCCESS 0\u001b[0m in 2.08s]\n",
      "\u001b[0m01:03:28  4 of 5 START sql table model DEV.dim_listings_with_hosts ....................... [RUN]\n",
      "\u001b[0m01:03:31  4 of 5 OK created sql table model DEV.dim_listings_with_hosts .................. [\u001b[32mSUCCESS 1\u001b[0m in 2.86s]\n",
      "\u001b[0m01:03:31  5 of 5 START sql table model DEV.mart_fullmoon_reviews ......................... [RUN]\n",
      "\u001b[0m01:03:34  5 of 5 OK created sql table model DEV.mart_fullmoon_reviews .................... [\u001b[32mSUCCESS 1\u001b[0m in 2.99s]\n",
      "\u001b[0m01:03:35  \n",
      "\u001b[0m01:03:35  Finished running 1 incremental model, 2 table models, 2 view models in 0 hours 0 minutes and 12.17 seconds (12.17s).\n",
      "\u001b[0m01:03:35  \n",
      "\u001b[0m01:03:35  \u001b[32mCompleted successfully\u001b[0m\n",
      "\u001b[0m01:03:35  \n",
      "\u001b[0m01:03:35  Done. PASS=5 WARN=0 ERROR=0 SKIP=0 TOTAL=5\n"
     ]
    }
   ],
   "source": [
    "!dbt run"
   ]
  },
  {
   "cell_type": "code",
   "execution_count": 23,
   "id": "b35ce302",
   "metadata": {},
   "outputs": [
    {
     "name": "stdout",
     "output_type": "stream",
     "text": [
      "\u001b[0m01:32:20  Running with dbt=1.9.0\n",
      "\u001b[0m01:32:21  Registered adapter: snowflake=1.9.4\n",
      "\u001b[0m01:32:21  Found 8 models, 1 seed, 3 sources, 477 macros\n",
      "\u001b[0m01:32:21  \n",
      "\u001b[0m01:32:21  Concurrency: 1 threads (target='dev')\n",
      "\u001b[0m01:32:21  \n"
     ]
    }
   ],
   "source": [
    "!dbt compile"
   ]
  },
  {
   "cell_type": "code",
   "execution_count": 24,
   "id": "bafcdf51",
   "metadata": {},
   "outputs": [
    {
     "name": "stdout",
     "output_type": "stream",
     "text": [
      "\u001b[0m01:36:50  Running with dbt=1.9.0\n",
      "\u001b[0m01:36:51  Registered adapter: snowflake=1.9.4\n",
      "\u001b[0m01:36:51  Found 1 seed, 8 models, 3 sources, 477 macros\n",
      "\u001b[0m01:36:51  \n",
      "\u001b[0m01:36:51  Concurrency: 1 threads (target='dev')\n",
      "\u001b[0m01:36:51  \n",
      "\u001b[0m01:36:52  Pulling freshness from warehouse metadata tables for 0 sources\n",
      "\u001b[0m01:36:52  1 of 1 START freshness of airbnb.reviews ....................................... [RUN]\n",
      "\u001b[0m01:36:54  1 of 1 ERROR STALE freshness of airbnb.reviews ................................. [\u001b[31mERROR STALE\u001b[0m in 1.92s]\n",
      "\u001b[0m01:36:55  \n",
      "\u001b[0m01:36:55  Finished running 1 source in 0 hours 0 minutes and 3.55 seconds (3.55s).\n",
      "\u001b[0m01:36:55  Done.\n"
     ]
    }
   ],
   "source": [
    "!dbt source freshness"
   ]
  },
  {
   "cell_type": "code",
   "execution_count": null,
   "id": "a5b856a0",
   "metadata": {},
   "outputs": [],
   "source": []
  }
 ],
 "metadata": {
  "kernelspec": {
   "display_name": "venv",
   "language": "python",
   "name": "python3"
  },
  "language_info": {
   "codemirror_mode": {
    "name": "ipython",
    "version": 3
   },
   "file_extension": ".py",
   "mimetype": "text/x-python",
   "name": "python",
   "nbconvert_exporter": "python",
   "pygments_lexer": "ipython3",
   "version": "3.13.5"
  }
 },
 "nbformat": 4,
 "nbformat_minor": 5
}

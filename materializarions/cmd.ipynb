{
 "cells": [
  {
   "cell_type": "code",
   "execution_count": 1,
   "id": "4a73540b",
   "metadata": {},
   "outputs": [
    {
     "name": "stdout",
     "output_type": "stream",
     "text": [
      "c:\\Users\\celia\\OneDrive\\Desktop\\Anil\\DBT-Data-build-Tool\\dbtsnowflake\n"
     ]
    }
   ],
   "source": [
    "%cd ../dbtsnowflake"
   ]
  },
  {
   "cell_type": "code",
   "execution_count": 4,
   "id": "82497de1",
   "metadata": {},
   "outputs": [
    {
     "name": "stdout",
     "output_type": "stream",
     "text": [
      "\u001b[0m02:13:03  Running with dbt=1.9.0\n",
      "\u001b[0m02:13:04  Registered adapter: snowflake=1.9.4\n",
      "\u001b[0m02:13:04  Unable to do partial parsing because of a version mismatch\n",
      "\u001b[0m02:13:04  Found 4 models, 477 macros\n",
      "\u001b[0m02:13:04  \n",
      "\u001b[0m02:13:04  Concurrency: 1 threads (target='dev')\n",
      "\u001b[0m02:13:04  \n",
      "\u001b[0m02:13:06  1 of 4 START sql view model DEV.src_hosts ...................................... [RUN]\n",
      "\u001b[0m02:13:07  1 of 4 OK created sql view model DEV.src_hosts ................................. [\u001b[32mSUCCESS 1\u001b[0m in 0.69s]\n",
      "\u001b[0m02:13:07  2 of 4 START sql view model DEV.src_listings ................................... [RUN]\n",
      "\u001b[0m02:13:07  2 of 4 OK created sql view model DEV.src_listings .............................. [\u001b[32mSUCCESS 1\u001b[0m in 0.24s]\n",
      "\u001b[0m02:13:07  3 of 4 START sql view model DEV.src_reviews .................................... [RUN]\n",
      "\u001b[0m02:13:08  3 of 4 OK created sql view model DEV.src_reviews ............................... [\u001b[32mSUCCESS 1\u001b[0m in 0.34s]\n",
      "\u001b[0m02:13:08  4 of 4 START sql view model DEV.dim_listings_cleansed .......................... [RUN]\n",
      "\u001b[0m02:13:08  4 of 4 OK created sql view model DEV.dim_listings_cleansed ..................... [\u001b[32mSUCCESS 1\u001b[0m in 0.37s]\n",
      "\u001b[0m02:13:08  \n",
      "\u001b[0m02:13:08  Finished running 4 view models in 0 hours 0 minutes and 3.93 seconds (3.93s).\n",
      "\u001b[0m02:13:08  \n",
      "\u001b[0m02:13:08  \u001b[32mCompleted successfully\u001b[0m\n",
      "\u001b[0m02:13:08  \n",
      "\u001b[0m02:13:08  Done. PASS=4 WARN=0 ERROR=0 SKIP=0 TOTAL=4\n"
     ]
    }
   ],
   "source": [
    "!dbt run"
   ]
  },
  {
   "cell_type": "code",
   "execution_count": 5,
   "id": "30996e6d",
   "metadata": {},
   "outputs": [
    {
     "name": "stdout",
     "output_type": "stream",
     "text": [
      "\u001b[0m02:19:23  Running with dbt=1.9.0\n",
      "\u001b[0m02:19:23  Registered adapter: snowflake=1.9.4\n",
      "\u001b[0m02:19:24  Unable to do partial parsing because of a version mismatch\n",
      "\u001b[0m02:19:24  Found 5 models, 477 macros\n",
      "\u001b[0m02:19:24  \n",
      "\u001b[0m02:19:24  Concurrency: 1 threads (target='dev')\n",
      "\u001b[0m02:19:24  \n",
      "\u001b[0m02:19:26  1 of 5 START sql view model DEV.src_hosts ...................................... [RUN]\n",
      "\u001b[0m02:19:26  1 of 5 OK created sql view model DEV.src_hosts ................................. [\u001b[32mSUCCESS 1\u001b[0m in 0.66s]\n",
      "\u001b[0m02:19:26  2 of 5 START sql view model DEV.src_listings ................................... [RUN]\n",
      "\u001b[0m02:19:27  2 of 5 OK created sql view model DEV.src_listings .............................. [\u001b[32mSUCCESS 1\u001b[0m in 0.36s]\n",
      "\u001b[0m02:19:27  3 of 5 START sql view model DEV.src_reviews .................................... [RUN]\n",
      "\u001b[0m02:19:27  3 of 5 OK created sql view model DEV.src_reviews ............................... [\u001b[32mSUCCESS 1\u001b[0m in 0.33s]\n",
      "\u001b[0m02:19:27  4 of 5 START sql view model DEV.dim_hosts_cleansed ............................. [RUN]\n",
      "\u001b[0m02:19:28  4 of 5 OK created sql view model DEV.dim_hosts_cleansed ........................ [\u001b[32mSUCCESS 1\u001b[0m in 0.72s]\n",
      "\u001b[0m02:19:28  5 of 5 START sql view model DEV.dim_listings_cleansed .......................... [RUN]\n",
      "\u001b[0m02:19:28  5 of 5 OK created sql view model DEV.dim_listings_cleansed ..................... [\u001b[32mSUCCESS 1\u001b[0m in 0.40s]\n",
      "\u001b[0m02:19:29  \n",
      "\u001b[0m02:19:29  Finished running 5 view models in 0 hours 0 minutes and 4.51 seconds (4.51s).\n",
      "\u001b[0m02:19:29  \n",
      "\u001b[0m02:19:29  \u001b[32mCompleted successfully\u001b[0m\n",
      "\u001b[0m02:19:29  \n",
      "\u001b[0m02:19:29  Done. PASS=5 WARN=0 ERROR=0 SKIP=0 TOTAL=5\n"
     ]
    }
   ],
   "source": [
    "!dbt run"
   ]
  },
  {
   "cell_type": "markdown",
   "id": "34fcf491",
   "metadata": {},
   "source": [
    "# Materizlization\n",
    "\n",
    "```yaml\n",
    "models:\n",
    "  dbtsnowflake:\n",
    "    +materialized: view # default as view\n",
    "    dim: # dim folder as table\n",
    "      +materialized: table\n"
   ]
  },
  {
   "cell_type": "markdown",
   "id": "23991d96",
   "metadata": {},
   "source": []
  },
  {
   "cell_type": "code",
   "execution_count": 6,
   "id": "24dc4491",
   "metadata": {},
   "outputs": [
    {
     "name": "stdout",
     "output_type": "stream",
     "text": [
      "\u001b[0m02:27:40  Running with dbt=1.9.0\n",
      "\u001b[0m02:27:40  Registered adapter: snowflake=1.9.4\n",
      "\u001b[0m02:27:40  Unable to do partial parsing because of a version mismatch\n",
      "\u001b[0m02:27:41  Found 5 models, 477 macros\n",
      "\u001b[0m02:27:41  \n",
      "\u001b[0m02:27:41  Concurrency: 1 threads (target='dev')\n",
      "\u001b[0m02:27:41  \n",
      "\u001b[0m02:27:43  1 of 5 START sql view model DEV.src_hosts ...................................... [RUN]\n",
      "\u001b[0m02:27:44  1 of 5 OK created sql view model DEV.src_hosts ................................. [\u001b[32mSUCCESS 1\u001b[0m in 0.90s]\n",
      "\u001b[0m02:27:44  2 of 5 START sql view model DEV.src_listings ................................... [RUN]\n",
      "\u001b[0m02:27:44  2 of 5 OK created sql view model DEV.src_listings .............................. [\u001b[32mSUCCESS 1\u001b[0m in 0.31s]\n",
      "\u001b[0m02:27:44  3 of 5 START sql view model DEV.src_reviews .................................... [RUN]\n",
      "\u001b[0m02:27:44  3 of 5 OK created sql view model DEV.src_reviews ............................... [\u001b[32mSUCCESS 1\u001b[0m in 0.32s]\n",
      "\u001b[0m02:27:44  4 of 5 START sql table model DEV.dim_hosts_cleansed ............................ [RUN]\n",
      "\u001b[0m02:27:46  4 of 5 OK created sql table model DEV.dim_hosts_cleansed ....................... [\u001b[32mSUCCESS 1\u001b[0m in 1.50s]\n",
      "\u001b[0m02:27:46  5 of 5 START sql table model DEV.dim_listings_cleansed ......................... [RUN]\n",
      "\u001b[0m02:27:47  5 of 5 OK created sql table model DEV.dim_listings_cleansed .................... [\u001b[32mSUCCESS 1\u001b[0m in 1.40s]\n",
      "\u001b[0m02:27:47  \n",
      "\u001b[0m02:27:47  Finished running 2 table models, 3 view models in 0 hours 0 minutes and 6.66 seconds (6.66s).\n",
      "\u001b[0m02:27:47  \n",
      "\u001b[0m02:27:47  \u001b[32mCompleted successfully\u001b[0m\n",
      "\u001b[0m02:27:47  \n",
      "\u001b[0m02:27:47  Done. PASS=5 WARN=0 ERROR=0 SKIP=0 TOTAL=5\n"
     ]
    }
   ],
   "source": [
    "!dbt run"
   ]
  },
  {
   "cell_type": "code",
   "execution_count": 8,
   "id": "7aca7aaa",
   "metadata": {},
   "outputs": [
    {
     "name": "stdout",
     "output_type": "stream",
     "text": [
      "\u001b[0m02:38:01  Running with dbt=1.9.0\n",
      "\u001b[0m02:38:01  Registered adapter: snowflake=1.9.4\n",
      "\u001b[0m02:38:01  Unable to do partial parsing because of a version mismatch\n",
      "\u001b[0m02:38:02  Found 6 models, 477 macros\n",
      "\u001b[0m02:38:02  \n",
      "\u001b[0m02:38:02  Concurrency: 1 threads (target='dev')\n",
      "\u001b[0m02:38:02  \n",
      "\u001b[0m02:38:04  1 of 6 START sql view model DEV.src_hosts ...................................... [RUN]\n",
      "\u001b[0m02:38:04  1 of 6 OK created sql view model DEV.src_hosts ................................. [\u001b[32mSUCCESS 1\u001b[0m in 0.68s]\n",
      "\u001b[0m02:38:04  2 of 6 START sql view model DEV.src_listings ................................... [RUN]\n",
      "\u001b[0m02:38:05  2 of 6 OK created sql view model DEV.src_listings .............................. [\u001b[32mSUCCESS 1\u001b[0m in 0.33s]\n",
      "\u001b[0m02:38:05  3 of 6 START sql view model DEV.src_reviews .................................... [RUN]\n",
      "\u001b[0m02:38:05  3 of 6 OK created sql view model DEV.src_reviews ............................... [\u001b[32mSUCCESS 1\u001b[0m in 0.34s]\n",
      "\u001b[0m02:38:05  4 of 6 START sql table model DEV.dim_hosts_cleansed ............................ [RUN]\n",
      "\u001b[0m02:38:06  4 of 6 OK created sql table model DEV.dim_hosts_cleansed ....................... [\u001b[32mSUCCESS 1\u001b[0m in 1.08s]\n",
      "\u001b[0m02:38:06  5 of 6 START sql table model DEV.dim_listings_cleansed ......................... [RUN]\n",
      "\u001b[0m02:38:08  5 of 6 OK created sql table model DEV.dim_listings_cleansed .................... [\u001b[32mSUCCESS 1\u001b[0m in 2.49s]\n",
      "\u001b[0m02:38:08  6 of 6 START sql incremental model DEV.fact_reviews ............................ [RUN]\n",
      "\u001b[0m02:38:11  6 of 6 OK created sql incremental model DEV.fact_reviews ....................... [\u001b[32mSUCCESS 1\u001b[0m in 2.74s]\n",
      "\u001b[0m02:38:12  \n",
      "\u001b[0m02:38:12  Finished running 1 incremental model, 2 table models, 3 view models in 0 hours 0 minutes and 9.67 seconds (9.67s).\n",
      "\u001b[0m02:38:12  \n",
      "\u001b[0m02:38:12  \u001b[32mCompleted successfully\u001b[0m\n",
      "\u001b[0m02:38:12  \n",
      "\u001b[0m02:38:12  Done. PASS=6 WARN=0 ERROR=0 SKIP=0 TOTAL=6\n"
     ]
    }
   ],
   "source": [
    "!dbt run"
   ]
  },
  {
   "cell_type": "markdown",
   "id": "b1ac29d8",
   "metadata": {},
   "source": [
    "# Testing the incremental \n",
    "\n",
    "\n",
    "insert into AIRBNB.RAW.RAW_REVIEWS values (3176, current_timestamp(), 'Anil', 'excellent stay!', 'positive');"
   ]
  },
  {
   "cell_type": "markdown",
   "id": "7a9b537d",
   "metadata": {},
   "source": []
  },
  {
   "cell_type": "code",
   "execution_count": 9,
   "id": "7663d619",
   "metadata": {},
   "outputs": [
    {
     "name": "stdout",
     "output_type": "stream",
     "text": [
      "\u001b[0m02:46:52  Running with dbt=1.9.0\n",
      "\u001b[0m02:46:52  Registered adapter: snowflake=1.9.4\n",
      "\u001b[0m02:46:53  Found 6 models, 477 macros\n",
      "\u001b[0m02:46:53  \n",
      "\u001b[0m02:46:53  Concurrency: 1 threads (target='dev')\n",
      "\u001b[0m02:46:53  \n",
      "\u001b[0m02:46:55  1 of 6 START sql view model DEV.src_hosts ...................................... [RUN]\n",
      "\u001b[0m02:46:56  1 of 6 OK created sql view model DEV.src_hosts ................................. [\u001b[32mSUCCESS 1\u001b[0m in 1.02s]\n",
      "\u001b[0m02:46:56  2 of 6 START sql view model DEV.src_listings ................................... [RUN]\n",
      "\u001b[0m02:46:56  2 of 6 OK created sql view model DEV.src_listings .............................. [\u001b[32mSUCCESS 1\u001b[0m in 0.28s]\n",
      "\u001b[0m02:46:56  3 of 6 START sql view model DEV.src_reviews .................................... [RUN]\n",
      "\u001b[0m02:46:56  3 of 6 OK created sql view model DEV.src_reviews ............................... [\u001b[32mSUCCESS 1\u001b[0m in 0.32s]\n",
      "\u001b[0m02:46:56  4 of 6 START sql table model DEV.dim_hosts_cleansed ............................ [RUN]\n",
      "\u001b[0m02:46:58  4 of 6 OK created sql table model DEV.dim_hosts_cleansed ....................... [\u001b[32mSUCCESS 1\u001b[0m in 1.45s]\n",
      "\u001b[0m02:46:58  5 of 6 START sql table model DEV.dim_listings_cleansed ......................... [RUN]\n",
      "\u001b[0m02:46:59  5 of 6 OK created sql table model DEV.dim_listings_cleansed .................... [\u001b[32mSUCCESS 1\u001b[0m in 1.30s]\n",
      "\u001b[0m02:46:59  6 of 6 START sql incremental model DEV.fact_reviews ............................ [RUN]\n",
      "\u001b[0m02:47:02  6 of 6 OK created sql incremental model DEV.fact_reviews ....................... [\u001b[32mSUCCESS 1\u001b[0m in 2.65s]\n",
      "\u001b[0m02:47:02  \n",
      "\u001b[0m02:47:02  Finished running 1 incremental model, 2 table models, 3 view models in 0 hours 0 minutes and 9.38 seconds (9.38s).\n",
      "\u001b[0m02:47:02  \n",
      "\u001b[0m02:47:02  \u001b[32mCompleted successfully\u001b[0m\n",
      "\u001b[0m02:47:02  \n",
      "\u001b[0m02:47:02  Done. PASS=6 WARN=0 ERROR=0 SKIP=0 TOTAL=6\n"
     ]
    }
   ],
   "source": [
    "!dbt run"
   ]
  },
  {
   "cell_type": "markdown",
   "id": "93716a9b",
   "metadata": {},
   "source": [
    "# run incremental as full refresh"
   ]
  },
  {
   "cell_type": "code",
   "execution_count": 10,
   "id": "877cd52b",
   "metadata": {},
   "outputs": [
    {
     "name": "stdout",
     "output_type": "stream",
     "text": [
      "\u001b[0m02:49:26  Running with dbt=1.9.0\n",
      "\u001b[0m02:49:26  Registered adapter: snowflake=1.9.4\n",
      "\u001b[0m02:49:26  Found 6 models, 477 macros\n",
      "\u001b[0m02:49:26  \n",
      "\u001b[0m02:49:26  Concurrency: 1 threads (target='dev')\n",
      "\u001b[0m02:49:26  \n",
      "\u001b[0m02:49:28  1 of 6 START sql view model DEV.src_hosts ...................................... [RUN]\n",
      "\u001b[0m02:49:29  1 of 6 OK created sql view model DEV.src_hosts ................................. [\u001b[32mSUCCESS 1\u001b[0m in 0.70s]\n",
      "\u001b[0m02:49:29  2 of 6 START sql view model DEV.src_listings ................................... [RUN]\n",
      "\u001b[0m02:49:29  2 of 6 OK created sql view model DEV.src_listings .............................. [\u001b[32mSUCCESS 1\u001b[0m in 0.30s]\n",
      "\u001b[0m02:49:29  3 of 6 START sql view model DEV.src_reviews .................................... [RUN]\n",
      "\u001b[0m02:49:29  3 of 6 OK created sql view model DEV.src_reviews ............................... [\u001b[32mSUCCESS 1\u001b[0m in 0.23s]\n",
      "\u001b[0m02:49:29  4 of 6 START sql table model DEV.dim_hosts_cleansed ............................ [RUN]\n",
      "\u001b[0m02:49:30  4 of 6 OK created sql table model DEV.dim_hosts_cleansed ....................... [\u001b[32mSUCCESS 1\u001b[0m in 1.01s]\n",
      "\u001b[0m02:49:30  5 of 6 START sql table model DEV.dim_listings_cleansed ......................... [RUN]\n",
      "\u001b[0m02:49:31  5 of 6 OK created sql table model DEV.dim_listings_cleansed .................... [\u001b[32mSUCCESS 1\u001b[0m in 0.98s]\n",
      "\u001b[0m02:49:31  6 of 6 START sql incremental model DEV.fact_reviews ............................ [RUN]\n",
      "\u001b[0m02:49:34  6 of 6 OK created sql incremental model DEV.fact_reviews ....................... [\u001b[32mSUCCESS 1\u001b[0m in 2.44s]\n",
      "\u001b[0m02:49:34  \n",
      "\u001b[0m02:49:34  Finished running 1 incremental model, 2 table models, 3 view models in 0 hours 0 minutes and 7.81 seconds (7.81s).\n",
      "\u001b[0m02:49:34  \n",
      "\u001b[0m02:49:34  \u001b[32mCompleted successfully\u001b[0m\n",
      "\u001b[0m02:49:34  \n",
      "\u001b[0m02:49:34  Done. PASS=6 WARN=0 ERROR=0 SKIP=0 TOTAL=6\n"
     ]
    }
   ],
   "source": [
    "! dbt run --full-refresh"
   ]
  },
  {
   "cell_type": "markdown",
   "id": "8a6db79e",
   "metadata": {},
   "source": [
    "# Ephemeral Materialization"
   ]
  },
  {
   "cell_type": "code",
   "execution_count": 12,
   "id": "cf354fca",
   "metadata": {},
   "outputs": [
    {
     "name": "stdout",
     "output_type": "stream",
     "text": [
      "\u001b[0m03:03:14  Running with dbt=1.9.0\n",
      "\u001b[0m03:03:14  Registered adapter: snowflake=1.9.4\n",
      "\u001b[0m03:03:15  Unable to do partial parsing because of a version mismatch\n",
      "\u001b[0m03:03:15  Found 7 models, 477 macros\n",
      "\u001b[0m03:03:15  \n",
      "\u001b[0m03:03:15  Concurrency: 1 threads (target='dev')\n",
      "\u001b[0m03:03:15  \n",
      "\u001b[0m03:03:17  1 of 7 START sql view model DEV.src_hosts ...................................... [RUN]\n",
      "\u001b[0m03:03:18  1 of 7 OK created sql view model DEV.src_hosts ................................. [\u001b[32mSUCCESS 1\u001b[0m in 0.84s]\n",
      "\u001b[0m03:03:18  2 of 7 START sql view model DEV.src_listings ................................... [RUN]\n",
      "\u001b[0m03:03:18  2 of 7 OK created sql view model DEV.src_listings .............................. [\u001b[32mSUCCESS 1\u001b[0m in 0.38s]\n",
      "\u001b[0m03:03:18  3 of 7 START sql view model DEV.src_reviews .................................... [RUN]\n",
      "\u001b[0m03:03:19  3 of 7 OK created sql view model DEV.src_reviews ............................... [\u001b[32mSUCCESS 1\u001b[0m in 0.41s]\n",
      "\u001b[0m03:03:19  4 of 7 START sql table model DEV.dim_hosts_cleansed ............................ [RUN]\n",
      "\u001b[0m03:03:20  4 of 7 OK created sql table model DEV.dim_hosts_cleansed ....................... [\u001b[32mSUCCESS 1\u001b[0m in 1.80s]\n",
      "\u001b[0m03:03:20  5 of 7 START sql table model DEV.dim_listings_cleansed ......................... [RUN]\n",
      "\u001b[0m03:03:22  5 of 7 OK created sql table model DEV.dim_listings_cleansed .................... [\u001b[32mSUCCESS 1\u001b[0m in 1.93s]\n",
      "\u001b[0m03:03:22  6 of 7 START sql incremental model DEV.fact_reviews ............................ [RUN]\n",
      "\u001b[0m03:03:25  6 of 7 OK created sql incremental model DEV.fact_reviews ....................... [\u001b[32mSUCCESS 0\u001b[0m in 2.79s]\n",
      "\u001b[0m03:03:25  7 of 7 START sql table model DEV.dim_listings_with_hosts ....................... [RUN]\n",
      "\u001b[0m03:03:27  7 of 7 OK created sql table model DEV.dim_listings_with_hosts .................. [\u001b[32mSUCCESS 1\u001b[0m in 1.39s]\n",
      "\u001b[0m03:03:27  \n",
      "\u001b[0m03:03:27  Finished running 1 incremental model, 3 table models, 3 view models in 0 hours 0 minutes and 11.89 seconds (11.89s).\n",
      "\u001b[0m03:03:27  \n",
      "\u001b[0m03:03:27  \u001b[32mCompleted successfully\u001b[0m\n",
      "\u001b[0m03:03:27  \n",
      "\u001b[0m03:03:27  Done. PASS=7 WARN=0 ERROR=0 SKIP=0 TOTAL=7\n"
     ]
    }
   ],
   "source": [
    "!dbt run"
   ]
  },
  {
   "cell_type": "markdown",
   "id": "7f8df2c7",
   "metadata": {},
   "source": [
    "# Using ephemeral\n",
    "```yaml\n",
    "models:\n",
    "  dbtsnowflake:\n",
    "    +materialized: view\n",
    "    dim:\n",
    "      +materialized: table\n",
    "    raw:\n",
    "      +materialized: ephemeral"
   ]
  },
  {
   "cell_type": "code",
   "execution_count": 15,
   "id": "b2c4e137",
   "metadata": {},
   "outputs": [
    {
     "name": "stdout",
     "output_type": "stream",
     "text": [
      "\u001b[0m03:08:50  Running with dbt=1.9.0\n",
      "\u001b[0m03:08:50  Registered adapter: snowflake=1.9.4\n",
      "\u001b[0m03:08:51  Found 7 models, 477 macros\n",
      "\u001b[0m03:08:51  \n",
      "\u001b[0m03:08:51  Concurrency: 1 threads (target='dev')\n",
      "\u001b[0m03:08:51  \n",
      "\u001b[0m03:08:53  1 of 4 START sql table model DEV.dim_hosts_cleansed ............................ [RUN]\n",
      "\u001b[0m03:08:54  1 of 4 OK created sql table model DEV.dim_hosts_cleansed ....................... [\u001b[32mSUCCESS 1\u001b[0m in 1.60s]\n",
      "\u001b[0m03:08:54  2 of 4 START sql table model DEV.dim_listings_cleansed ......................... [RUN]\n",
      "\u001b[0m03:08:56  2 of 4 OK created sql table model DEV.dim_listings_cleansed .................... [\u001b[32mSUCCESS 1\u001b[0m in 1.61s]\n",
      "\u001b[0m03:08:56  3 of 4 START sql incremental model DEV.fact_reviews ............................ [RUN]\n",
      "\u001b[0m03:08:58  3 of 4 OK created sql incremental model DEV.fact_reviews ....................... [\u001b[32mSUCCESS 0\u001b[0m in 2.25s]\n",
      "\u001b[0m03:08:58  4 of 4 START sql table model DEV.dim_listings_with_hosts ....................... [RUN]\n",
      "\u001b[0m03:09:00  4 of 4 OK created sql table model DEV.dim_listings_with_hosts .................. [\u001b[32mSUCCESS 1\u001b[0m in 1.67s]\n",
      "\u001b[0m03:09:00  \n",
      "\u001b[0m03:09:00  Finished running 1 incremental model, 3 table models in 0 hours 0 minutes and 9.69 seconds (9.69s).\n",
      "\u001b[0m03:09:00  \n",
      "\u001b[0m03:09:00  \u001b[32mCompleted successfully\u001b[0m\n",
      "\u001b[0m03:09:00  \n",
      "\u001b[0m03:09:00  Done. PASS=4 WARN=0 ERROR=0 SKIP=0 TOTAL=4\n"
     ]
    }
   ],
   "source": [
    "!dbt run"
   ]
  },
  {
   "cell_type": "code",
   "execution_count": 17,
   "id": "fd7f36db",
   "metadata": {},
   "outputs": [
    {
     "name": "stdout",
     "output_type": "stream",
     "text": [
      "\u001b[0m03:15:05  Running with dbt=1.9.0\n",
      "\u001b[0m03:15:06  Registered adapter: snowflake=1.9.4\n",
      "\u001b[0m03:15:06  Unable to do partial parsing because of a version mismatch\n",
      "\u001b[0m03:15:07  Found 7 models, 477 macros\n",
      "\u001b[0m03:15:07  \n",
      "\u001b[0m03:15:07  Concurrency: 1 threads (target='dev')\n",
      "\u001b[0m03:15:07  \n",
      "\u001b[0m03:15:08  1 of 4 START sql view model DEV.dim_hosts_cleansed ............................. [RUN]\n",
      "\u001b[0m03:15:09  1 of 4 OK created sql view model DEV.dim_hosts_cleansed ........................ [\u001b[32mSUCCESS 1\u001b[0m in 0.91s]\n",
      "\u001b[0m03:15:09  2 of 4 START sql view model DEV.dim_listings_cleansed .......................... [RUN]\n",
      "\u001b[0m03:15:09  2 of 4 OK created sql view model DEV.dim_listings_cleansed ..................... [\u001b[32mSUCCESS 1\u001b[0m in 0.33s]\n",
      "\u001b[0m03:15:09  3 of 4 START sql incremental model DEV.fact_reviews ............................ [RUN]\n",
      "\u001b[0m03:15:12  3 of 4 OK created sql incremental model DEV.fact_reviews ....................... [\u001b[32mSUCCESS 0\u001b[0m in 2.47s]\n",
      "\u001b[0m03:15:12  4 of 4 START sql table model DEV.dim_listings_with_hosts ....................... [RUN]\n",
      "\u001b[0m03:15:13  4 of 4 OK created sql table model DEV.dim_listings_with_hosts .................. [\u001b[32mSUCCESS 1\u001b[0m in 1.62s]\n",
      "\u001b[0m03:15:14  \n",
      "\u001b[0m03:15:14  Finished running 1 incremental model, 1 table model, 2 view models in 0 hours 0 minutes and 7.26 seconds (7.26s).\n",
      "\u001b[0m03:15:14  \n",
      "\u001b[0m03:15:14  \u001b[32mCompleted successfully\u001b[0m\n",
      "\u001b[0m03:15:14  \n",
      "\u001b[0m03:15:14  Done. PASS=4 WARN=0 ERROR=0 SKIP=0 TOTAL=4\n"
     ]
    }
   ],
   "source": [
    "!dbt run"
   ]
  },
  {
   "cell_type": "code",
   "execution_count": null,
   "id": "fa81e4f6",
   "metadata": {},
   "outputs": [],
   "source": []
  }
 ],
 "metadata": {
  "kernelspec": {
   "display_name": "venv",
   "language": "python",
   "name": "python3"
  },
  "language_info": {
   "codemirror_mode": {
    "name": "ipython",
    "version": 3
   },
   "file_extension": ".py",
   "mimetype": "text/x-python",
   "name": "python",
   "nbconvert_exporter": "python",
   "pygments_lexer": "ipython3",
   "version": "3.13.5"
  }
 },
 "nbformat": 4,
 "nbformat_minor": 5
}
